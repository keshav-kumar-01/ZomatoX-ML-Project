{
 "cells": [
  {
   "cell_type": "code",
   "execution_count": 6,
   "id": "a5c55fb2",
   "metadata": {
    "_cell_guid": "b1076dfc-b9ad-4769-8c92-a6c4dae69d19",
    "_uuid": "8f2839f25d086af736a60e9eeb907d3b93b6e0e5",
    "execution": {
     "iopub.execute_input": "2025-07-13T16:12:14.276974Z",
     "iopub.status.busy": "2025-07-13T16:12:14.276741Z",
     "iopub.status.idle": "2025-07-13T16:12:20.688701Z",
     "shell.execute_reply": "2025-07-13T16:12:20.688051Z"
    },
    "papermill": {
     "duration": 6.416838,
     "end_time": "2025-07-13T16:12:20.689992",
     "exception": false,
     "start_time": "2025-07-13T16:12:14.273154",
     "status": "completed"
    },
    "tags": []
   },
   "outputs": [
    {
     "name": "stderr",
     "output_type": "stream",
     "text": [
      "<>:12: SyntaxWarning: invalid escape sequence '\\Z'\n",
      "<>:12: SyntaxWarning: invalid escape sequence '\\Z'\n",
      "C:\\Users\\Admin\\AppData\\Local\\Temp\\ipykernel_13424\\2693727979.py:12: SyntaxWarning: invalid escape sequence '\\Z'\n",
      "  df = pd.read_csv('D:\\ZomatoX-ML\\Data\\enhanced_zomato_dataset_clean.csv')\n"
     ]
    },
    {
     "data": {
      "text/html": [
       "<div>\n",
       "<style scoped>\n",
       "    .dataframe tbody tr th:only-of-type {\n",
       "        vertical-align: middle;\n",
       "    }\n",
       "\n",
       "    .dataframe tbody tr th {\n",
       "        vertical-align: top;\n",
       "    }\n",
       "\n",
       "    .dataframe thead th {\n",
       "        text-align: right;\n",
       "    }\n",
       "</style>\n",
       "<table border=\"1\" class=\"dataframe\">\n",
       "  <thead>\n",
       "    <tr style=\"text-align: right;\">\n",
       "      <th></th>\n",
       "      <th>Restaurant_Name</th>\n",
       "      <th>Dining_Rating</th>\n",
       "      <th>Delivery_Rating</th>\n",
       "      <th>Dining_Votes</th>\n",
       "      <th>Delivery_Votes</th>\n",
       "      <th>Cuisine</th>\n",
       "      <th>Place_Name</th>\n",
       "      <th>City</th>\n",
       "      <th>Item_Name</th>\n",
       "      <th>Best_Seller</th>\n",
       "      <th>...</th>\n",
       "      <th>Is_Bestseller</th>\n",
       "      <th>Restaurant_Popularity</th>\n",
       "      <th>Avg_Rating_Restaurant</th>\n",
       "      <th>Avg_Price_Restaurant</th>\n",
       "      <th>Avg_Rating_Cuisine</th>\n",
       "      <th>Avg_Price_Cuisine</th>\n",
       "      <th>Avg_Rating_City</th>\n",
       "      <th>Avg_Price_City</th>\n",
       "      <th>Is_Highly_Rated</th>\n",
       "      <th>Is_Expensive</th>\n",
       "    </tr>\n",
       "  </thead>\n",
       "  <tbody>\n",
       "    <tr>\n",
       "      <th>0</th>\n",
       "      <td>Doner King</td>\n",
       "      <td>3.9</td>\n",
       "      <td>4.2</td>\n",
       "      <td>39</td>\n",
       "      <td>0</td>\n",
       "      <td>Fast Food</td>\n",
       "      <td>Malakpet</td>\n",
       "      <td>Hyderabad</td>\n",
       "      <td>Platter Kebab Combo</td>\n",
       "      <td>BESTSELLER</td>\n",
       "      <td>...</td>\n",
       "      <td>1</td>\n",
       "      <td>46</td>\n",
       "      <td>4.05</td>\n",
       "      <td>171.347826</td>\n",
       "      <td>3.81868</td>\n",
       "      <td>255.954894</td>\n",
       "      <td>3.939031</td>\n",
       "      <td>245.130482</td>\n",
       "      <td>1</td>\n",
       "      <td>0</td>\n",
       "    </tr>\n",
       "    <tr>\n",
       "      <th>1</th>\n",
       "      <td>Doner King</td>\n",
       "      <td>3.9</td>\n",
       "      <td>4.2</td>\n",
       "      <td>39</td>\n",
       "      <td>0</td>\n",
       "      <td>Fast Food</td>\n",
       "      <td>Malakpet</td>\n",
       "      <td>Hyderabad</td>\n",
       "      <td>Chicken Rumali Shawarma</td>\n",
       "      <td>BESTSELLER</td>\n",
       "      <td>...</td>\n",
       "      <td>1</td>\n",
       "      <td>46</td>\n",
       "      <td>4.05</td>\n",
       "      <td>171.347826</td>\n",
       "      <td>3.81868</td>\n",
       "      <td>255.954894</td>\n",
       "      <td>3.939031</td>\n",
       "      <td>245.130482</td>\n",
       "      <td>1</td>\n",
       "      <td>0</td>\n",
       "    </tr>\n",
       "    <tr>\n",
       "      <th>2</th>\n",
       "      <td>Doner King</td>\n",
       "      <td>3.9</td>\n",
       "      <td>4.2</td>\n",
       "      <td>39</td>\n",
       "      <td>0</td>\n",
       "      <td>Fast Food</td>\n",
       "      <td>Malakpet</td>\n",
       "      <td>Hyderabad</td>\n",
       "      <td>Chicken Tandoori Salad</td>\n",
       "      <td>NONE</td>\n",
       "      <td>...</td>\n",
       "      <td>1</td>\n",
       "      <td>46</td>\n",
       "      <td>4.05</td>\n",
       "      <td>171.347826</td>\n",
       "      <td>3.81868</td>\n",
       "      <td>255.954894</td>\n",
       "      <td>3.939031</td>\n",
       "      <td>245.130482</td>\n",
       "      <td>1</td>\n",
       "      <td>0</td>\n",
       "    </tr>\n",
       "    <tr>\n",
       "      <th>3</th>\n",
       "      <td>Doner King</td>\n",
       "      <td>3.9</td>\n",
       "      <td>4.2</td>\n",
       "      <td>39</td>\n",
       "      <td>0</td>\n",
       "      <td>Fast Food</td>\n",
       "      <td>Malakpet</td>\n",
       "      <td>Hyderabad</td>\n",
       "      <td>Chicken BBQ Salad</td>\n",
       "      <td>BESTSELLER</td>\n",
       "      <td>...</td>\n",
       "      <td>1</td>\n",
       "      <td>46</td>\n",
       "      <td>4.05</td>\n",
       "      <td>171.347826</td>\n",
       "      <td>3.81868</td>\n",
       "      <td>255.954894</td>\n",
       "      <td>3.939031</td>\n",
       "      <td>245.130482</td>\n",
       "      <td>1</td>\n",
       "      <td>0</td>\n",
       "    </tr>\n",
       "    <tr>\n",
       "      <th>4</th>\n",
       "      <td>Doner King</td>\n",
       "      <td>3.9</td>\n",
       "      <td>4.2</td>\n",
       "      <td>39</td>\n",
       "      <td>0</td>\n",
       "      <td>Fast Food</td>\n",
       "      <td>Malakpet</td>\n",
       "      <td>Hyderabad</td>\n",
       "      <td>Special Doner Wrap Combo</td>\n",
       "      <td>MUST TRY</td>\n",
       "      <td>...</td>\n",
       "      <td>1</td>\n",
       "      <td>46</td>\n",
       "      <td>4.05</td>\n",
       "      <td>171.347826</td>\n",
       "      <td>3.81868</td>\n",
       "      <td>255.954894</td>\n",
       "      <td>3.939031</td>\n",
       "      <td>245.130482</td>\n",
       "      <td>1</td>\n",
       "      <td>0</td>\n",
       "    </tr>\n",
       "  </tbody>\n",
       "</table>\n",
       "<p>5 rows × 26 columns</p>\n",
       "</div>"
      ],
      "text/plain": [
       "  Restaurant_Name  Dining_Rating  Delivery_Rating  Dining_Votes  \\\n",
       "0      Doner King            3.9              4.2            39   \n",
       "1      Doner King            3.9              4.2            39   \n",
       "2      Doner King            3.9              4.2            39   \n",
       "3      Doner King            3.9              4.2            39   \n",
       "4      Doner King            3.9              4.2            39   \n",
       "\n",
       "   Delivery_Votes    Cuisine Place_Name        City                 Item_Name  \\\n",
       "0               0  Fast Food   Malakpet   Hyderabad       Platter Kebab Combo   \n",
       "1               0  Fast Food   Malakpet   Hyderabad   Chicken Rumali Shawarma   \n",
       "2               0  Fast Food   Malakpet   Hyderabad    Chicken Tandoori Salad   \n",
       "3               0  Fast Food   Malakpet   Hyderabad         Chicken BBQ Salad   \n",
       "4               0  Fast Food   Malakpet   Hyderabad  Special Doner Wrap Combo   \n",
       "\n",
       "  Best_Seller  ...  Is_Bestseller  Restaurant_Popularity  \\\n",
       "0  BESTSELLER  ...              1                     46   \n",
       "1  BESTSELLER  ...              1                     46   \n",
       "2        NONE  ...              1                     46   \n",
       "3  BESTSELLER  ...              1                     46   \n",
       "4    MUST TRY  ...              1                     46   \n",
       "\n",
       "   Avg_Rating_Restaurant  Avg_Price_Restaurant  Avg_Rating_Cuisine  \\\n",
       "0                   4.05            171.347826             3.81868   \n",
       "1                   4.05            171.347826             3.81868   \n",
       "2                   4.05            171.347826             3.81868   \n",
       "3                   4.05            171.347826             3.81868   \n",
       "4                   4.05            171.347826             3.81868   \n",
       "\n",
       "   Avg_Price_Cuisine  Avg_Rating_City  Avg_Price_City  Is_Highly_Rated  \\\n",
       "0         255.954894         3.939031      245.130482                1   \n",
       "1         255.954894         3.939031      245.130482                1   \n",
       "2         255.954894         3.939031      245.130482                1   \n",
       "3         255.954894         3.939031      245.130482                1   \n",
       "4         255.954894         3.939031      245.130482                1   \n",
       "\n",
       "   Is_Expensive  \n",
       "0             0  \n",
       "1             0  \n",
       "2             0  \n",
       "3             0  \n",
       "4             0  \n",
       "\n",
       "[5 rows x 26 columns]"
      ]
     },
     "execution_count": 6,
     "metadata": {},
     "output_type": "execute_result"
    }
   ],
   "source": [
    "import pandas as pd\n",
    "import numpy as np\n",
    "import seaborn as sns\n",
    "import matplotlib.pyplot as plt\n",
    "\n",
    "from sklearn.model_selection import train_test_split\n",
    "from sklearn.preprocessing import StandardScaler\n",
    "from sklearn.ensemble import RandomForestRegressor\n",
    "from sklearn.linear_model import LinearRegression\n",
    "from sklearn.metrics import mean_absolute_error, mean_squared_error, r2_score\n",
    "\n",
    "df = pd.read_csv('D:\\ZomatoX-ML\\Data\\enhanced_zomato_dataset_clean.csv')\n",
    "df.head()\n"
   ]
  },
  {
   "cell_type": "code",
   "execution_count": 7,
   "id": "833adecd",
   "metadata": {
    "execution": {
     "iopub.execute_input": "2025-07-13T16:12:20.695404Z",
     "iopub.status.busy": "2025-07-13T16:12:20.695182Z",
     "iopub.status.idle": "2025-07-13T16:12:20.706526Z",
     "shell.execute_reply": "2025-07-13T16:12:20.705821Z"
    },
    "papermill": {
     "duration": 0.015056,
     "end_time": "2025-07-13T16:12:20.707680",
     "exception": false,
     "start_time": "2025-07-13T16:12:20.692624",
     "status": "completed"
    },
    "tags": []
   },
   "outputs": [],
   "source": [
    "# Define target and input features\n",
    "target = 'Prices'\n",
    "features = [\n",
    "    'Dining_Rating', 'Delivery_Rating', 'Dining_Votes', 'Delivery_Votes',\n",
    "    'Votes', 'Average_Rating', 'Total_Votes', 'Price_per_Vote', 'Log_Price',\n",
    "    'Is_Bestseller', 'Restaurant_Popularity', 'Avg_Rating_Restaurant',\n",
    "    'Avg_Price_Restaurant', 'Avg_Rating_Cuisine', 'Avg_Price_Cuisine',\n",
    "    'Avg_Rating_City', 'Avg_Price_City', 'Is_Highly_Rated', 'Is_Expensive'\n",
    "]\n",
    "\n",
    "X = df[features]\n",
    "y = df[target]\n"
   ]
  },
  {
   "cell_type": "code",
   "execution_count": 8,
   "id": "1f73aefe",
   "metadata": {
    "execution": {
     "iopub.execute_input": "2025-07-13T16:12:20.712103Z",
     "iopub.status.busy": "2025-07-13T16:12:20.711904Z",
     "iopub.status.idle": "2025-07-13T16:12:20.853881Z",
     "shell.execute_reply": "2025-07-13T16:12:20.853073Z"
    },
    "papermill": {
     "duration": 0.145798,
     "end_time": "2025-07-13T16:12:20.855405",
     "exception": false,
     "start_time": "2025-07-13T16:12:20.709607",
     "status": "completed"
    },
    "tags": []
   },
   "outputs": [],
   "source": [
    "# Split data\n",
    "X_train, X_test, y_train, y_test = train_test_split(X, y, test_size=0.2, random_state=42)\n",
    "\n",
    "# Standardize\n",
    "scaler = StandardScaler()\n",
    "X_train_scaled = scaler.fit_transform(X_train)\n",
    "X_test_scaled = scaler.transform(X_test)\n"
   ]
  },
  {
   "cell_type": "code",
   "execution_count": 9,
   "id": "9e5ad8c3",
   "metadata": {
    "execution": {
     "iopub.execute_input": "2025-07-13T16:12:20.861586Z",
     "iopub.status.busy": "2025-07-13T16:12:20.861123Z",
     "iopub.status.idle": "2025-07-13T16:13:01.004914Z",
     "shell.execute_reply": "2025-07-13T16:13:01.004091Z"
    },
    "papermill": {
     "duration": 40.148307,
     "end_time": "2025-07-13T16:13:01.006494",
     "exception": false,
     "start_time": "2025-07-13T16:12:20.858187",
     "status": "completed"
    },
    "tags": []
   },
   "outputs": [],
   "source": [
    "# Linear Regression\n",
    "lr = LinearRegression()\n",
    "lr.fit(X_train_scaled, y_train)\n",
    "lr_preds = lr.predict(X_test_scaled)\n",
    "\n",
    "# Random Forest Regressor\n",
    "rf = RandomForestRegressor(n_estimators=100, random_state=42)\n",
    "rf.fit(X_train, y_train)\n",
    "rf_preds = rf.predict(X_test)\n"
   ]
  },
  {
   "cell_type": "code",
   "execution_count": 10,
   "id": "ac75d6a6",
   "metadata": {
    "execution": {
     "iopub.execute_input": "2025-07-13T16:13:01.011815Z",
     "iopub.status.busy": "2025-07-13T16:13:01.011532Z",
     "iopub.status.idle": "2025-07-13T16:13:01.020406Z",
     "shell.execute_reply": "2025-07-13T16:13:01.019622Z"
    },
    "papermill": {
     "duration": 0.012745,
     "end_time": "2025-07-13T16:13:01.021540",
     "exception": false,
     "start_time": "2025-07-13T16:13:01.008795",
     "status": "completed"
    },
    "tags": []
   },
   "outputs": [
    {
     "name": "stdout",
     "output_type": "stream",
     "text": [
      "📊 Linear Regression Evaluation:\n",
      "MAE: 52.70100113043788\n",
      "RMSE: 81.37652209560683\n",
      "R² Score: 0.8080235188425892\n",
      "----------------------------------------\n",
      "📊 Random Forest Regressor Evaluation:\n",
      "MAE: 0.03543389940159502\n",
      "RMSE: 1.4069858930980776\n",
      "R² Score: 0.9999426109198969\n",
      "----------------------------------------\n"
     ]
    }
   ],
   "source": [
    "def evaluate(y_true, y_pred, model_name):\n",
    "    print(f\"📊 {model_name} Evaluation:\")\n",
    "    print(\"MAE:\", mean_absolute_error(y_true, y_pred))\n",
    "    print(\"RMSE:\", np.sqrt(mean_squared_error(y_true, y_pred)))\n",
    "    print(\"R² Score:\", r2_score(y_true, y_pred))\n",
    "    print(\"-\" * 40)\n",
    "\n",
    "evaluate(y_test, lr_preds, \"Linear Regression\")\n",
    "evaluate(y_test, rf_preds, \"Random Forest Regressor\")\n"
   ]
  },
  {
   "cell_type": "code",
   "execution_count": 11,
   "id": "b2f337a5",
   "metadata": {
    "execution": {
     "iopub.execute_input": "2025-07-13T16:13:01.026718Z",
     "iopub.status.busy": "2025-07-13T16:13:01.026038Z",
     "iopub.status.idle": "2025-07-13T16:13:01.501903Z",
     "shell.execute_reply": "2025-07-13T16:13:01.501250Z"
    },
    "papermill": {
     "duration": 0.480078,
     "end_time": "2025-07-13T16:13:01.503674",
     "exception": false,
     "start_time": "2025-07-13T16:13:01.023596",
     "status": "completed"
    },
    "tags": []
   },
   "outputs": [
    {
     "data": {
      "text/plain": [
       "<Axes: title={'center': 'Feature Importance'}>"
      ]
     },
     "execution_count": 11,
     "metadata": {},
     "output_type": "execute_result"
    },
    {
     "data": {
      "image/png": "[encoded data removed]",
      "text/plain": [
       "<Figure size 1000x600 with 1 Axes>"
      ]
     },
     "metadata": {},
     "output_type": "display_data"
    }
   ],
   "source": [
    "# Feature Importance\n",
    "importances = rf.feature_importances_\n",
    "feat_imp = pd.Series(importances, index=features).sort_values(ascending=True)\n",
    "feat_imp.plot(kind='barh', figsize=(10, 6), title=\"Feature Importance\")\n"
   ]
  },
  {
   "cell_type": "code",
   "execution_count": 12,
   "id": "e02322a7",
   "metadata": {
    "execution": {
     "iopub.execute_input": "2025-07-13T16:13:01.511117Z",
     "iopub.status.busy": "2025-07-13T16:13:01.510708Z",
     "iopub.status.idle": "2025-07-13T16:13:01.568283Z",
     "shell.execute_reply": "2025-07-13T16:13:01.567691Z"
    },
    "papermill": {
     "duration": 0.062576,
     "end_time": "2025-07-13T16:13:01.569651",
     "exception": false,
     "start_time": "2025-07-13T16:13:01.507075",
     "status": "completed"
    },
    "tags": []
   },
   "outputs": [
    {
     "name": "stderr",
     "output_type": "stream",
     "text": [
      "<>:2: SyntaxWarning: invalid escape sequence '\\Z'\n",
      "<>:3: SyntaxWarning: invalid escape sequence '\\Z'\n",
      "<>:2: SyntaxWarning: invalid escape sequence '\\Z'\n",
      "<>:3: SyntaxWarning: invalid escape sequence '\\Z'\n",
      "C:\\Users\\Admin\\AppData\\Local\\Temp\\ipykernel_13424\\3066195325.py:2: SyntaxWarning: invalid escape sequence '\\Z'\n",
      "  joblib.dump(rf, 'D:\\ZomatoX-ML\\Models\\price_predictor_rf.pkl')\n",
      "C:\\Users\\Admin\\AppData\\Local\\Temp\\ipykernel_13424\\3066195325.py:3: SyntaxWarning: invalid escape sequence '\\Z'\n",
      "  joblib.dump(scaler, 'D:\\ZomatoX-ML\\Models\\price_scaler.pkl')\n"
     ]
    },
    {
     "data": {
      "text/plain": [
       "['D:\\\\ZomatoX-ML\\\\Models\\\\price_scaler.pkl']"
      ]
     },
     "execution_count": 12,
     "metadata": {},
     "output_type": "execute_result"
    }
   ],
   "source": [
    "import joblib\n",
    "joblib.dump(rf, 'D:\\ZomatoX-ML\\Models\\price_predictor_rf.pkl')\n",
    "joblib.dump(scaler, 'D:\\ZomatoX-ML\\Models\\price_scaler.pkl')\n"
   ]
  }
 ],
 "metadata": {
  "kaggle": {
   "accelerator": "nvidiaTeslaT4",
   "dataSources": [
    {
     "datasetId": 7698803,
     "sourceId": 12220019,
     "sourceType": "datasetVersion"
    }
   ],
   "dockerImageVersionId": 31090,
   "isGpuEnabled": true,
   "isInternetEnabled": true,
   "language": "python",
   "sourceType": "notebook"
  },
  "kernelspec": {
   "display_name": "venv",
   "language": "python",
   "name": "python3"
  },
  "language_info": {
   "codemirror_mode": {
    "name": "ipython",
    "version": 3
   },
   "file_extension": ".py",
   "mimetype": "text/x-python",
   "name": "python",
   "nbconvert_exporter": "python",
   "pygments_lexer": "ipython3",
   "version": "3.12.2"
  },
  "papermill": {
   "default_parameters": {},
   "duration": 54.066724,
   "end_time": "2025-07-13T16:13:02.090532",
   "environment_variables": {},
   "exception": null,
   "input_path": "__notebook__.ipynb",
   "output_path": "__notebook__.ipynb",
   "parameters": {},
   "start_time": "2025-07-13T16:12:08.023808",
   "version": "2.6.0"
  }
 },
 "nbformat": 4,
 "nbformat_minor": 5
}
