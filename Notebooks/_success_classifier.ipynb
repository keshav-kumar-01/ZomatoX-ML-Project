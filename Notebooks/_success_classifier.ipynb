{
 "cells": [
  {
   "cell_type": "code",
   "execution_count": 1,
   "id": "6e448c2e",
   "metadata": {
    "_cell_guid": "b1076dfc-b9ad-4769-8c92-a6c4dae69d19",
    "_uuid": "8f2839f25d086af736a60e9eeb907d3b93b6e0e5",
    "execution": {
     "iopub.execute_input": "2025-07-13T16:21:33.372022Z",
     "iopub.status.busy": "2025-07-13T16:21:33.371733Z",
     "iopub.status.idle": "2025-07-13T16:21:38.151348Z",
     "shell.execute_reply": "2025-07-13T16:21:38.150641Z"
    },
    "papermill": {
     "duration": 4.785305,
     "end_time": "2025-07-13T16:21:38.152926",
     "exception": false,
     "start_time": "2025-07-13T16:21:33.367621",
     "status": "completed"
    },
    "tags": []
   },
   "outputs": [
    {
     "name": "stderr",
     "output_type": "stream",
     "text": [
      "<>:12: SyntaxWarning: invalid escape sequence '\\Z'\n",
      "<>:12: SyntaxWarning: invalid escape sequence '\\Z'\n",
      "C:\\Users\\Admin\\AppData\\Local\\Temp\\ipykernel_11592\\859675094.py:12: SyntaxWarning: invalid escape sequence '\\Z'\n",
      "  df = pd.read_csv('D:\\ZomatoX-ML\\Data\\enhanced_zomato_dataset_clean.csv')\n"
     ]
    }
   ],
   "source": [
    "import pandas as pd\n",
    "import numpy as np\n",
    "import seaborn as sns\n",
    "import matplotlib.pyplot as plt\n",
    "\n",
    "from sklearn.model_selection import train_test_split\n",
    "from sklearn.ensemble import RandomForestClassifier\n",
    "from sklearn.linear_model import LogisticRegression\n",
    "from sklearn.metrics import classification_report, confusion_matrix, accuracy_score\n",
    "from sklearn.preprocessing import StandardScaler\n",
    "\n",
    "df = pd.read_csv('D:\\ZomatoX-ML\\Data\\enhanced_zomato_dataset_clean.csv')\n"
   ]
  },
  {
   "cell_type": "code",
   "execution_count": 2,
   "id": "cb25ab80",
   "metadata": {
    "execution": {
     "iopub.execute_input": "2025-07-13T16:21:38.159803Z",
     "iopub.status.busy": "2025-07-13T16:21:38.159259Z",
     "iopub.status.idle": "2025-07-13T16:21:38.180809Z",
     "shell.execute_reply": "2025-07-13T16:21:38.179928Z"
    },
    "papermill": {
     "duration": 0.026149,
     "end_time": "2025-07-13T16:21:38.182118",
     "exception": false,
     "start_time": "2025-07-13T16:21:38.155969",
     "status": "completed"
    },
    "tags": []
   },
   "outputs": [
    {
     "data": {
      "text/plain": [
       "Is_Successful\n",
       "0    79.418068\n",
       "1    20.581932\n",
       "Name: proportion, dtype: float64"
      ]
     },
     "execution_count": 2,
     "metadata": {},
     "output_type": "execute_result"
    }
   ],
   "source": [
    "median_popularity = df['Restaurant_Popularity'].median()\n",
    "df['Is_Successful'] = ((df['Is_Highly_Rated'] == 1) & (df['Restaurant_Popularity'] > median_popularity)).astype(int)\n",
    "\n",
    "df['Is_Successful'].value_counts(normalize=True) * 100  # check class balance\n"
   ]
  },
  {
   "cell_type": "code",
   "execution_count": 3,
   "id": "df3b8b16",
   "metadata": {
    "execution": {
     "iopub.execute_input": "2025-07-13T16:21:38.188291Z",
     "iopub.status.busy": "2025-07-13T16:21:38.188006Z",
     "iopub.status.idle": "2025-07-13T16:21:38.199153Z",
     "shell.execute_reply": "2025-07-13T16:21:38.198558Z"
    },
    "papermill": {
     "duration": 0.015597,
     "end_time": "2025-07-13T16:21:38.200435",
     "exception": false,
     "start_time": "2025-07-13T16:21:38.184838",
     "status": "completed"
    },
    "tags": []
   },
   "outputs": [],
   "source": [
    "features = [\n",
    "    'Dining_Rating', 'Delivery_Rating', 'Dining_Votes', 'Delivery_Votes',\n",
    "    'Votes', 'Average_Rating', 'Total_Votes', 'Price_per_Vote', 'Log_Price',\n",
    "    'Is_Bestseller', 'Restaurant_Popularity', 'Avg_Rating_Restaurant',\n",
    "    'Avg_Price_Restaurant', 'Avg_Rating_Cuisine', 'Avg_Price_Cuisine',\n",
    "    'Avg_Rating_City', 'Avg_Price_City', 'Is_Expensive'\n",
    "]\n",
    "\n",
    "X = df[features]\n",
    "y = df['Is_Successful']\n"
   ]
  },
  {
   "cell_type": "code",
   "execution_count": 4,
   "id": "361fdc04",
   "metadata": {
    "execution": {
     "iopub.execute_input": "2025-07-13T16:21:38.206802Z",
     "iopub.status.busy": "2025-07-13T16:21:38.206551Z",
     "iopub.status.idle": "2025-07-13T16:21:38.320708Z",
     "shell.execute_reply": "2025-07-13T16:21:38.319833Z"
    },
    "papermill": {
     "duration": 0.119145,
     "end_time": "2025-07-13T16:21:38.322409",
     "exception": false,
     "start_time": "2025-07-13T16:21:38.203264",
     "status": "completed"
    },
    "tags": []
   },
   "outputs": [],
   "source": [
    "X_train, X_test, y_train, y_test = train_test_split(X, y, test_size=0.2, random_state=42)\n",
    "\n",
    "scaler = StandardScaler()\n",
    "X_train_scaled = scaler.fit_transform(X_train)\n",
    "X_test_scaled = scaler.transform(X_test)\n"
   ]
  },
  {
   "cell_type": "code",
   "execution_count": 5,
   "id": "a436434f",
   "metadata": {
    "execution": {
     "iopub.execute_input": "2025-07-13T16:21:38.329337Z",
     "iopub.status.busy": "2025-07-13T16:21:38.328752Z",
     "iopub.status.idle": "2025-07-13T16:21:43.190411Z",
     "shell.execute_reply": "2025-07-13T16:21:43.189637Z"
    },
    "papermill": {
     "duration": 4.866433,
     "end_time": "2025-07-13T16:21:43.191878",
     "exception": false,
     "start_time": "2025-07-13T16:21:38.325445",
     "status": "completed"
    },
    "tags": []
   },
   "outputs": [],
   "source": [
    "# Logistic Regression\n",
    "lr = LogisticRegression()\n",
    "lr.fit(X_train_scaled, y_train)\n",
    "lr_preds = lr.predict(X_test_scaled)\n",
    "\n",
    "# Random Forest Classifier\n",
    "rf = RandomForestClassifier(n_estimators=100, random_state=42)\n",
    "rf.fit(X_train, y_train)\n",
    "rf_preds = rf.predict(X_test)\n"
   ]
  },
  {
   "cell_type": "code",
   "execution_count": 6,
   "id": "c228969f",
   "metadata": {
    "execution": {
     "iopub.execute_input": "2025-07-13T16:21:43.198118Z",
     "iopub.status.busy": "2025-07-13T16:21:43.197652Z",
     "iopub.status.idle": "2025-07-13T16:21:43.289685Z",
     "shell.execute_reply": "2025-07-13T16:21:43.288767Z"
    },
    "papermill": {
     "duration": 0.096517,
     "end_time": "2025-07-13T16:21:43.291017",
     "exception": false,
     "start_time": "2025-07-13T16:21:43.194500",
     "status": "completed"
    },
    "tags": []
   },
   "outputs": [
    {
     "name": "stdout",
     "output_type": "stream",
     "text": [
      "📊 Logistic Regression Evaluation:\n",
      "Accuracy: 0.8410965550703542\n",
      "Confusion Matrix:\n",
      " [[18304  1338]\n",
      " [ 2592  2498]]\n",
      "Classification Report:\n",
      "               precision    recall  f1-score   support\n",
      "\n",
      "           0       0.88      0.93      0.90     19642\n",
      "           1       0.65      0.49      0.56      5090\n",
      "\n",
      "    accuracy                           0.84     24732\n",
      "   macro avg       0.76      0.71      0.73     24732\n",
      "weighted avg       0.83      0.84      0.83     24732\n",
      "\n",
      "----------------------------------------\n",
      "📊 Random Forest Classifier Evaluation:\n",
      "Accuracy: 1.0\n",
      "Confusion Matrix:\n",
      " [[19642     0]\n",
      " [    0  5090]]\n",
      "Classification Report:\n",
      "               precision    recall  f1-score   support\n",
      "\n",
      "           0       1.00      1.00      1.00     19642\n",
      "           1       1.00      1.00      1.00      5090\n",
      "\n",
      "    accuracy                           1.00     24732\n",
      "   macro avg       1.00      1.00      1.00     24732\n",
      "weighted avg       1.00      1.00      1.00     24732\n",
      "\n",
      "----------------------------------------\n"
     ]
    }
   ],
   "source": [
    "def evaluate_model(y_true, y_pred, model_name):\n",
    "    print(f\"📊 {model_name} Evaluation:\")\n",
    "    print(\"Accuracy:\", accuracy_score(y_true, y_pred))\n",
    "    print(\"Confusion Matrix:\\n\", confusion_matrix(y_true, y_pred))\n",
    "    print(\"Classification Report:\\n\", classification_report(y_true, y_pred))\n",
    "    print(\"-\" * 40)\n",
    "\n",
    "evaluate_model(y_test, lr_preds, \"Logistic Regression\")\n",
    "evaluate_model(y_test, rf_preds, \"Random Forest Classifier\")\n"
   ]
  },
  {
   "cell_type": "code",
   "execution_count": 7,
   "id": "3167cf1d",
   "metadata": {
    "execution": {
     "iopub.execute_input": "2025-07-13T16:21:43.297431Z",
     "iopub.status.busy": "2025-07-13T16:21:43.296961Z",
     "iopub.status.idle": "2025-07-13T16:21:43.721436Z",
     "shell.execute_reply": "2025-07-13T16:21:43.720571Z"
    },
    "papermill": {
     "duration": 0.429357,
     "end_time": "2025-07-13T16:21:43.723191",
     "exception": false,
     "start_time": "2025-07-13T16:21:43.293834",
     "status": "completed"
    },
    "tags": []
   },
   "outputs": [
    {
     "data": {
      "text/plain": [
       "<Axes: title={'center': 'Feature Importance for Success Classification'}>"
      ]
     },
     "execution_count": 7,
     "metadata": {},
     "output_type": "execute_result"
    },
    {
     "data": {
      "image/png": "[encoded data removed]",
      "text/plain": [
       "<Figure size 1000x600 with 1 Axes>"
      ]
     },
     "metadata": {},
     "output_type": "display_data"
    }
   ],
   "source": [
    "importances = rf.feature_importances_\n",
    "feat_imp = pd.Series(importances, index=features).sort_values(ascending=True)\n",
    "feat_imp.plot(kind='barh', figsize=(10, 6), title=\"Feature Importance for Success Classification\")\n"
   ]
  },
  {
   "cell_type": "code",
   "execution_count": 8,
   "id": "7c0c00aa",
   "metadata": {
    "execution": {
     "iopub.execute_input": "2025-07-13T16:21:43.732004Z",
     "iopub.status.busy": "2025-07-13T16:21:43.731703Z",
     "iopub.status.idle": "2025-07-13T16:21:43.769093Z",
     "shell.execute_reply": "2025-07-13T16:21:43.768361Z"
    },
    "papermill": {
     "duration": 0.043154,
     "end_time": "2025-07-13T16:21:43.770381",
     "exception": false,
     "start_time": "2025-07-13T16:21:43.727227",
     "status": "completed"
    },
    "tags": []
   },
   "outputs": [
    {
     "name": "stderr",
     "output_type": "stream",
     "text": [
      "<>:2: SyntaxWarning: invalid escape sequence '\\Z'\n",
      "<>:3: SyntaxWarning: invalid escape sequence '\\Z'\n",
      "<>:2: SyntaxWarning: invalid escape sequence '\\Z'\n",
      "<>:3: SyntaxWarning: invalid escape sequence '\\Z'\n",
      "C:\\Users\\Admin\\AppData\\Local\\Temp\\ipykernel_11592\\1252021063.py:2: SyntaxWarning: invalid escape sequence '\\Z'\n",
      "  joblib.dump(rf, 'D:\\ZomatoX-ML\\Models\\success_classifier_rf.pkl')\n",
      "C:\\Users\\Admin\\AppData\\Local\\Temp\\ipykernel_11592\\1252021063.py:3: SyntaxWarning: invalid escape sequence '\\Z'\n",
      "  joblib.dump(scaler, 'D:\\ZomatoX-ML\\Models\\success_scaler.pkl')\n"
     ]
    },
    {
     "data": {
      "text/plain": [
       "['D:\\\\ZomatoX-ML\\\\Models\\\\success_scaler.pkl']"
      ]
     },
     "execution_count": 8,
     "metadata": {},
     "output_type": "execute_result"
    }
   ],
   "source": [
    "import joblib\n",
    "joblib.dump(rf, 'D:\\ZomatoX-ML\\Models\\success_classifier_rf.pkl')\n",
    "joblib.dump(scaler, 'D:\\ZomatoX-ML\\Models\\success_scaler.pkl')\n"
   ]
  },
  {
   "cell_type": "code",
   "execution_count": 9,
   "id": "08f97b02",
   "metadata": {
    "execution": {
     "iopub.execute_input": "2025-07-13T16:21:43.779006Z",
     "iopub.status.busy": "2025-07-13T16:21:43.778731Z",
     "iopub.status.idle": "2025-07-13T16:21:43.866655Z",
     "shell.execute_reply": "2025-07-13T16:21:43.865750Z"
    },
    "papermill": {
     "duration": 0.093937,
     "end_time": "2025-07-13T16:21:43.868209",
     "exception": false,
     "start_time": "2025-07-13T16:21:43.774272",
     "status": "completed"
    },
    "tags": []
   },
   "outputs": [
    {
     "name": "stdout",
     "output_type": "stream",
     "text": [
      "📊 Logistic Regression Evaluation:\n",
      "Accuracy: 0.8410965550703542\n",
      "Confusion Matrix:\n",
      " [[18304  1338]\n",
      " [ 2592  2498]]\n",
      "Classification Report:\n",
      "               precision    recall  f1-score   support\n",
      "\n",
      "           0       0.88      0.93      0.90     19642\n",
      "           1       0.65      0.49      0.56      5090\n",
      "\n",
      "    accuracy                           0.84     24732\n",
      "   macro avg       0.76      0.71      0.73     24732\n",
      "weighted avg       0.83      0.84      0.83     24732\n",
      "\n",
      "----------------------------------------\n",
      "📊 Random Forest Classifier Evaluation:\n",
      "Accuracy: 1.0\n",
      "Confusion Matrix:\n",
      " [[19642     0]\n",
      " [    0  5090]]\n",
      "Classification Report:\n",
      "               precision    recall  f1-score   support\n",
      "\n",
      "           0       1.00      1.00      1.00     19642\n",
      "           1       1.00      1.00      1.00      5090\n",
      "\n",
      "    accuracy                           1.00     24732\n",
      "   macro avg       1.00      1.00      1.00     24732\n",
      "weighted avg       1.00      1.00      1.00     24732\n",
      "\n",
      "----------------------------------------\n"
     ]
    }
   ],
   "source": [
    "evaluate_model(y_test, lr_preds, \"Logistic Regression\")\n",
    "evaluate_model(y_test, rf_preds, \"Random Forest Classifier\")\n"
   ]
  },
  {
   "cell_type": "code",
   "execution_count": 10,
   "id": "c69e6599",
   "metadata": {
    "execution": {
     "iopub.execute_input": "2025-07-13T16:21:43.877578Z",
     "iopub.status.busy": "2025-07-13T16:21:43.876945Z",
     "iopub.status.idle": "2025-07-13T16:21:44.054975Z",
     "shell.execute_reply": "2025-07-13T16:21:44.054211Z"
    },
    "papermill": {
     "duration": 0.184151,
     "end_time": "2025-07-13T16:21:44.056446",
     "exception": false,
     "start_time": "2025-07-13T16:21:43.872295",
     "status": "completed"
    },
    "tags": []
   },
   "outputs": [
    {
     "data": {
      "image/png": "[encoded data removed]",
      "text/plain": [
       "<Figure size 640x480 with 2 Axes>"
      ]
     },
     "metadata": {},
     "output_type": "display_data"
    }
   ],
   "source": [
    "import seaborn as sns\n",
    "import matplotlib.pyplot as plt\n",
    "from sklearn.metrics import confusion_matrix\n",
    "\n",
    "cm = confusion_matrix(y_test, rf_preds)\n",
    "sns.heatmap(cm, annot=True, fmt='d', cmap='Blues', xticklabels=['Unsuccessful', 'Successful'], yticklabels=['Unsuccessful', 'Successful'])\n",
    "plt.title('Random Forest - Confusion Matrix')\n",
    "plt.xlabel('Predicted')\n",
    "plt.ylabel('Actual')\n",
    "plt.show()\n"
   ]
  },
  {
   "cell_type": "code",
   "execution_count": null,
   "id": "6ea71a30",
   "metadata": {
    "papermill": {
     "duration": 0.004187,
     "end_time": "2025-07-13T16:21:44.065434",
     "exception": false,
     "start_time": "2025-07-13T16:21:44.061247",
     "status": "completed"
    },
    "tags": []
   },
   "outputs": [],
   "source": []
  }
 ],
 "metadata": {
  "kaggle": {
   "accelerator": "none",
   "dataSources": [
    {
     "datasetId": 7698803,
     "sourceId": 12220019,
     "sourceType": "datasetVersion"
    }
   ],
   "dockerImageVersionId": 31089,
   "isGpuEnabled": false,
   "isInternetEnabled": true,
   "language": "python",
   "sourceType": "notebook"
  },
  "kernelspec": {
   "display_name": "venv",
   "language": "python",
   "name": "python3"
  },
  "language_info": {
   "codemirror_mode": {
    "name": "ipython",
    "version": 3
   },
   "file_extension": ".py",
   "mimetype": "text/x-python",
   "name": "python",
   "nbconvert_exporter": "python",
   "pygments_lexer": "ipython3",
   "version": "3.12.2"
  },
  "papermill": {
   "default_parameters": {},
   "duration": 15.721559,
   "end_time": "2025-07-13T16:21:44.688485",
   "environment_variables": {},
   "exception": null,
   "input_path": "__notebook__.ipynb",
   "output_path": "__notebook__.ipynb",
   "parameters": {},
   "start_time": "2025-07-13T16:21:28.966926",
   "version": "2.6.0"
  }
 },
 "nbformat": 4,
 "nbformat_minor": 5
}
