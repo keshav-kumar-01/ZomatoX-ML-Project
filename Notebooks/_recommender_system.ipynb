{
 "cells": [
  {
   "cell_type": "code",
   "execution_count": null,
   "id": "47cf04e8",
   "metadata": {
    "_cell_guid": "b1076dfc-b9ad-4769-8c92-a6c4dae69d19",
    "_uuid": "8f2839f25d086af736a60e9eeb907d3b93b6e0e5",
    "execution": {
     "iopub.execute_input": "2025-07-14T06:01:06.644058Z",
     "iopub.status.busy": "2025-07-14T06:01:06.643764Z",
     "iopub.status.idle": "2025-07-14T06:01:11.174823Z",
     "shell.execute_reply": "2025-07-14T06:01:11.173868Z"
    },
    "papermill": {
     "duration": 4.53744,
     "end_time": "2025-07-14T06:01:11.176321",
     "exception": false,
     "start_time": "2025-07-14T06:01:06.638881",
     "status": "completed"
    },
    "tags": []
   },
   "outputs": [
    {
     "data": {
      "text/html": [
       "<div>\n",
       "<style scoped>\n",
       "    .dataframe tbody tr th:only-of-type {\n",
       "        vertical-align: middle;\n",
       "    }\n",
       "\n",
       "    .dataframe tbody tr th {\n",
       "        vertical-align: top;\n",
       "    }\n",
       "\n",
       "    .dataframe thead th {\n",
       "        text-align: right;\n",
       "    }\n",
       "</style>\n",
       "<table border=\"1\" class=\"dataframe\">\n",
       "  <thead>\n",
       "    <tr style=\"text-align: right;\">\n",
       "      <th></th>\n",
       "      <th>Restaurant_Name</th>\n",
       "      <th>Dining_Rating</th>\n",
       "      <th>Delivery_Rating</th>\n",
       "      <th>Dining_Votes</th>\n",
       "      <th>Delivery_Votes</th>\n",
       "      <th>Cuisine</th>\n",
       "      <th>Place_Name</th>\n",
       "      <th>City</th>\n",
       "      <th>Item_Name</th>\n",
       "      <th>Best_Seller</th>\n",
       "      <th>...</th>\n",
       "      <th>Is_Bestseller</th>\n",
       "      <th>Restaurant_Popularity</th>\n",
       "      <th>Avg_Rating_Restaurant</th>\n",
       "      <th>Avg_Price_Restaurant</th>\n",
       "      <th>Avg_Rating_Cuisine</th>\n",
       "      <th>Avg_Price_Cuisine</th>\n",
       "      <th>Avg_Rating_City</th>\n",
       "      <th>Avg_Price_City</th>\n",
       "      <th>Is_Highly_Rated</th>\n",
       "      <th>Is_Expensive</th>\n",
       "    </tr>\n",
       "  </thead>\n",
       "  <tbody>\n",
       "    <tr>\n",
       "      <th>0</th>\n",
       "      <td>Doner King</td>\n",
       "      <td>3.9</td>\n",
       "      <td>4.2</td>\n",
       "      <td>39</td>\n",
       "      <td>0</td>\n",
       "      <td>Fast Food</td>\n",
       "      <td>Malakpet</td>\n",
       "      <td>Hyderabad</td>\n",
       "      <td>Platter Kebab Combo</td>\n",
       "      <td>BESTSELLER</td>\n",
       "      <td>...</td>\n",
       "      <td>1</td>\n",
       "      <td>46</td>\n",
       "      <td>4.05</td>\n",
       "      <td>171.347826</td>\n",
       "      <td>3.81868</td>\n",
       "      <td>255.954894</td>\n",
       "      <td>3.939031</td>\n",
       "      <td>245.130482</td>\n",
       "      <td>1</td>\n",
       "      <td>0</td>\n",
       "    </tr>\n",
       "    <tr>\n",
       "      <th>1</th>\n",
       "      <td>Doner King</td>\n",
       "      <td>3.9</td>\n",
       "      <td>4.2</td>\n",
       "      <td>39</td>\n",
       "      <td>0</td>\n",
       "      <td>Fast Food</td>\n",
       "      <td>Malakpet</td>\n",
       "      <td>Hyderabad</td>\n",
       "      <td>Chicken Rumali Shawarma</td>\n",
       "      <td>BESTSELLER</td>\n",
       "      <td>...</td>\n",
       "      <td>1</td>\n",
       "      <td>46</td>\n",
       "      <td>4.05</td>\n",
       "      <td>171.347826</td>\n",
       "      <td>3.81868</td>\n",
       "      <td>255.954894</td>\n",
       "      <td>3.939031</td>\n",
       "      <td>245.130482</td>\n",
       "      <td>1</td>\n",
       "      <td>0</td>\n",
       "    </tr>\n",
       "    <tr>\n",
       "      <th>2</th>\n",
       "      <td>Doner King</td>\n",
       "      <td>3.9</td>\n",
       "      <td>4.2</td>\n",
       "      <td>39</td>\n",
       "      <td>0</td>\n",
       "      <td>Fast Food</td>\n",
       "      <td>Malakpet</td>\n",
       "      <td>Hyderabad</td>\n",
       "      <td>Chicken Tandoori Salad</td>\n",
       "      <td>NONE</td>\n",
       "      <td>...</td>\n",
       "      <td>1</td>\n",
       "      <td>46</td>\n",
       "      <td>4.05</td>\n",
       "      <td>171.347826</td>\n",
       "      <td>3.81868</td>\n",
       "      <td>255.954894</td>\n",
       "      <td>3.939031</td>\n",
       "      <td>245.130482</td>\n",
       "      <td>1</td>\n",
       "      <td>0</td>\n",
       "    </tr>\n",
       "    <tr>\n",
       "      <th>3</th>\n",
       "      <td>Doner King</td>\n",
       "      <td>3.9</td>\n",
       "      <td>4.2</td>\n",
       "      <td>39</td>\n",
       "      <td>0</td>\n",
       "      <td>Fast Food</td>\n",
       "      <td>Malakpet</td>\n",
       "      <td>Hyderabad</td>\n",
       "      <td>Chicken BBQ Salad</td>\n",
       "      <td>BESTSELLER</td>\n",
       "      <td>...</td>\n",
       "      <td>1</td>\n",
       "      <td>46</td>\n",
       "      <td>4.05</td>\n",
       "      <td>171.347826</td>\n",
       "      <td>3.81868</td>\n",
       "      <td>255.954894</td>\n",
       "      <td>3.939031</td>\n",
       "      <td>245.130482</td>\n",
       "      <td>1</td>\n",
       "      <td>0</td>\n",
       "    </tr>\n",
       "    <tr>\n",
       "      <th>4</th>\n",
       "      <td>Doner King</td>\n",
       "      <td>3.9</td>\n",
       "      <td>4.2</td>\n",
       "      <td>39</td>\n",
       "      <td>0</td>\n",
       "      <td>Fast Food</td>\n",
       "      <td>Malakpet</td>\n",
       "      <td>Hyderabad</td>\n",
       "      <td>Special Doner Wrap Combo</td>\n",
       "      <td>MUST TRY</td>\n",
       "      <td>...</td>\n",
       "      <td>1</td>\n",
       "      <td>46</td>\n",
       "      <td>4.05</td>\n",
       "      <td>171.347826</td>\n",
       "      <td>3.81868</td>\n",
       "      <td>255.954894</td>\n",
       "      <td>3.939031</td>\n",
       "      <td>245.130482</td>\n",
       "      <td>1</td>\n",
       "      <td>0</td>\n",
       "    </tr>\n",
       "  </tbody>\n",
       "</table>\n",
       "<p>5 rows × 26 columns</p>\n",
       "</div>"
      ],
      "text/plain": [
       "  Restaurant_Name  Dining_Rating  Delivery_Rating  Dining_Votes  \\\n",
       "0      Doner King            3.9              4.2            39   \n",
       "1      Doner King            3.9              4.2            39   \n",
       "2      Doner King            3.9              4.2            39   \n",
       "3      Doner King            3.9              4.2            39   \n",
       "4      Doner King            3.9              4.2            39   \n",
       "\n",
       "   Delivery_Votes    Cuisine Place_Name        City                 Item_Name  \\\n",
       "0               0  Fast Food   Malakpet   Hyderabad       Platter Kebab Combo   \n",
       "1               0  Fast Food   Malakpet   Hyderabad   Chicken Rumali Shawarma   \n",
       "2               0  Fast Food   Malakpet   Hyderabad    Chicken Tandoori Salad   \n",
       "3               0  Fast Food   Malakpet   Hyderabad         Chicken BBQ Salad   \n",
       "4               0  Fast Food   Malakpet   Hyderabad  Special Doner Wrap Combo   \n",
       "\n",
       "  Best_Seller  ...  Is_Bestseller  Restaurant_Popularity  \\\n",
       "0  BESTSELLER  ...              1                     46   \n",
       "1  BESTSELLER  ...              1                     46   \n",
       "2        NONE  ...              1                     46   \n",
       "3  BESTSELLER  ...              1                     46   \n",
       "4    MUST TRY  ...              1                     46   \n",
       "\n",
       "   Avg_Rating_Restaurant  Avg_Price_Restaurant  Avg_Rating_Cuisine  \\\n",
       "0                   4.05            171.347826             3.81868   \n",
       "1                   4.05            171.347826             3.81868   \n",
       "2                   4.05            171.347826             3.81868   \n",
       "3                   4.05            171.347826             3.81868   \n",
       "4                   4.05            171.347826             3.81868   \n",
       "\n",
       "   Avg_Price_Cuisine  Avg_Rating_City  Avg_Price_City  Is_Highly_Rated  \\\n",
       "0         255.954894         3.939031      245.130482                1   \n",
       "1         255.954894         3.939031      245.130482                1   \n",
       "2         255.954894         3.939031      245.130482                1   \n",
       "3         255.954894         3.939031      245.130482                1   \n",
       "4         255.954894         3.939031      245.130482                1   \n",
       "\n",
       "   Is_Expensive  \n",
       "0             0  \n",
       "1             0  \n",
       "2             0  \n",
       "3             0  \n",
       "4             0  \n",
       "\n",
       "[5 rows x 26 columns]"
      ]
     },
     "execution_count": 1,
     "metadata": {},
     "output_type": "execute_result"
    }
   ],
   "source": [
    "import pandas as pd\n",
    "import numpy as np\n",
    "from sklearn.metrics.pairwise import cosine_similarity\n",
    "from sklearn.preprocessing import MinMaxScaler\n",
    "\n",
    "df = pd.read_csv('D:\\ZomatoX-ML\\Data\\enhanced_zomato_dataset_clean.csv')\n",
    "df.head()\n"
   ]
  },
  {
   "cell_type": "code",
   "execution_count": 2,
   "id": "4a68bd2a",
   "metadata": {
    "execution": {
     "iopub.execute_input": "2025-07-14T06:01:11.185394Z",
     "iopub.status.busy": "2025-07-14T06:01:11.185030Z",
     "iopub.status.idle": "2025-07-14T06:01:11.245046Z",
     "shell.execute_reply": "2025-07-14T06:01:11.244032Z"
    },
    "papermill": {
     "duration": 0.066136,
     "end_time": "2025-07-14T06:01:11.246777",
     "exception": false,
     "start_time": "2025-07-14T06:01:11.180641",
     "status": "completed"
    },
    "tags": []
   },
   "outputs": [
    {
     "data": {
      "text/html": [
       "<div>\n",
       "<style scoped>\n",
       "    .dataframe tbody tr th:only-of-type {\n",
       "        vertical-align: middle;\n",
       "    }\n",
       "\n",
       "    .dataframe tbody tr th {\n",
       "        vertical-align: top;\n",
       "    }\n",
       "\n",
       "    .dataframe thead th {\n",
       "        text-align: right;\n",
       "    }\n",
       "</style>\n",
       "<table border=\"1\" class=\"dataframe\">\n",
       "  <thead>\n",
       "    <tr style=\"text-align: right;\">\n",
       "      <th></th>\n",
       "      <th>Restaurant_Name</th>\n",
       "      <th>City</th>\n",
       "      <th>Cuisine</th>\n",
       "      <th>Average_Rating</th>\n",
       "      <th>Prices</th>\n",
       "      <th>Restaurant_Popularity</th>\n",
       "      <th>Is_Highly_Rated</th>\n",
       "      <th>Is_Expensive</th>\n",
       "    </tr>\n",
       "  </thead>\n",
       "  <tbody>\n",
       "    <tr>\n",
       "      <th>0</th>\n",
       "      <td>12 To 12 BBQ</td>\n",
       "      <td>Kochi</td>\n",
       "      <td>Biryani</td>\n",
       "      <td>4.000000</td>\n",
       "      <td>273.364198</td>\n",
       "      <td>162.0</td>\n",
       "      <td>1.0</td>\n",
       "      <td>0.302469</td>\n",
       "    </tr>\n",
       "    <tr>\n",
       "      <th>1</th>\n",
       "      <td>1441 Pizzeria</td>\n",
       "      <td>Mumbai</td>\n",
       "      <td>Desserts</td>\n",
       "      <td>3.911132</td>\n",
       "      <td>349.874667</td>\n",
       "      <td>135.0</td>\n",
       "      <td>0.0</td>\n",
       "      <td>0.637037</td>\n",
       "    </tr>\n",
       "    <tr>\n",
       "      <th>2</th>\n",
       "      <td>1944 -The HOCCO Kitchen</td>\n",
       "      <td>Ahmedabad</td>\n",
       "      <td>Shake</td>\n",
       "      <td>4.300000</td>\n",
       "      <td>356.283784</td>\n",
       "      <td>222.0</td>\n",
       "      <td>1.0</td>\n",
       "      <td>0.441441</td>\n",
       "    </tr>\n",
       "    <tr>\n",
       "      <th>3</th>\n",
       "      <td>4M Biryani House</td>\n",
       "      <td>Hyderabad</td>\n",
       "      <td>Chinese</td>\n",
       "      <td>4.150000</td>\n",
       "      <td>211.570312</td>\n",
       "      <td>128.0</td>\n",
       "      <td>1.0</td>\n",
       "      <td>0.171875</td>\n",
       "    </tr>\n",
       "    <tr>\n",
       "      <th>4</th>\n",
       "      <td>7 Plates</td>\n",
       "      <td>Bangalore</td>\n",
       "      <td>Seafood</td>\n",
       "      <td>4.061132</td>\n",
       "      <td>241.782123</td>\n",
       "      <td>179.0</td>\n",
       "      <td>1.0</td>\n",
       "      <td>0.296089</td>\n",
       "    </tr>\n",
       "  </tbody>\n",
       "</table>\n",
       "</div>"
      ],
      "text/plain": [
       "           Restaurant_Name        City   Cuisine  Average_Rating      Prices  \\\n",
       "0             12 To 12 BBQ       Kochi   Biryani        4.000000  273.364198   \n",
       "1            1441 Pizzeria      Mumbai  Desserts        3.911132  349.874667   \n",
       "2  1944 -The HOCCO Kitchen   Ahmedabad     Shake        4.300000  356.283784   \n",
       "3         4M Biryani House   Hyderabad   Chinese        4.150000  211.570312   \n",
       "4                 7 Plates   Bangalore   Seafood        4.061132  241.782123   \n",
       "\n",
       "   Restaurant_Popularity  Is_Highly_Rated  Is_Expensive  \n",
       "0                  162.0              1.0      0.302469  \n",
       "1                  135.0              0.0      0.637037  \n",
       "2                  222.0              1.0      0.441441  \n",
       "3                  128.0              1.0      0.171875  \n",
       "4                  179.0              1.0      0.296089  "
      ]
     },
     "execution_count": 2,
     "metadata": {},
     "output_type": "execute_result"
    }
   ],
   "source": [
    "# Aggregated restaurant-level features\n",
    "grouped = df.groupby(['Restaurant_Name', 'City', 'Cuisine']).agg({\n",
    "    'Average_Rating': 'mean',\n",
    "    'Prices': 'mean',\n",
    "    'Restaurant_Popularity': 'mean',\n",
    "    'Is_Highly_Rated': 'mean',\n",
    "    'Is_Expensive': 'mean'\n",
    "}).reset_index()\n",
    "\n",
    "grouped['Cuisine'] = grouped['Cuisine'].astype(str)\n",
    "grouped.head()\n"
   ]
  },
  {
   "cell_type": "code",
   "execution_count": 3,
   "id": "79730a10",
   "metadata": {
    "execution": {
     "iopub.execute_input": "2025-07-14T06:01:11.255593Z",
     "iopub.status.busy": "2025-07-14T06:01:11.254958Z",
     "iopub.status.idle": "2025-07-14T06:01:11.268783Z",
     "shell.execute_reply": "2025-07-14T06:01:11.267823Z"
    },
    "papermill": {
     "duration": 0.019956,
     "end_time": "2025-07-14T06:01:11.270495",
     "exception": false,
     "start_time": "2025-07-14T06:01:11.250539",
     "status": "completed"
    },
    "tags": []
   },
   "outputs": [],
   "source": [
    "# One-hot encode Cuisine & City\n",
    "encoded = pd.get_dummies(grouped[['City', 'Cuisine']])\n",
    "numerical = grouped[['Average_Rating', 'Prices', 'Restaurant_Popularity']]\n",
    "scaled = MinMaxScaler().fit_transform(numerical)\n",
    "\n",
    "# Combine all\n",
    "features_df = pd.concat([pd.DataFrame(scaled), encoded], axis=1)\n"
   ]
  },
  {
   "cell_type": "code",
   "execution_count": 4,
   "id": "d798730a",
   "metadata": {
    "execution": {
     "iopub.execute_input": "2025-07-14T06:01:11.279143Z",
     "iopub.status.busy": "2025-07-14T06:01:11.278808Z",
     "iopub.status.idle": "2025-07-14T06:01:11.313321Z",
     "shell.execute_reply": "2025-07-14T06:01:11.312513Z"
    },
    "papermill": {
     "duration": 0.040755,
     "end_time": "2025-07-14T06:01:11.315011",
     "exception": false,
     "start_time": "2025-07-14T06:01:11.274256",
     "status": "completed"
    },
    "tags": []
   },
   "outputs": [],
   "source": [
    "similarity_matrix = cosine_similarity(features_df)\n"
   ]
  },
  {
   "cell_type": "code",
   "execution_count": 5,
   "id": "218823f3",
   "metadata": {
    "execution": {
     "iopub.execute_input": "2025-07-14T06:01:11.323584Z",
     "iopub.status.busy": "2025-07-14T06:01:11.322935Z",
     "iopub.status.idle": "2025-07-14T06:01:11.329626Z",
     "shell.execute_reply": "2025-07-14T06:01:11.328920Z"
    },
    "papermill": {
     "duration": 0.012256,
     "end_time": "2025-07-14T06:01:11.330946",
     "exception": false,
     "start_time": "2025-07-14T06:01:11.318690",
     "status": "completed"
    },
    "tags": []
   },
   "outputs": [],
   "source": [
    "def recommend_by_cuisine_city(cuisine, city, sort_by=\"rating\", top_n=5):\n",
    "    # Filter dataset\n",
    "    filtered = df[(df['City'].str.lower() == city.lower()) &\n",
    "                  (df['Cuisine'].str.lower() == cuisine.lower())]\n",
    "\n",
    "    if filtered.empty:\n",
    "        print(\"❌ No matching restaurants found for this cuisine and city.\")\n",
    "        return\n",
    "\n",
    "    # Sort logic\n",
    "    if sort_by == \"rating\":\n",
    "        sorted_df = filtered.sort_values(by=\"Average_Rating\", ascending=False)\n",
    "    elif sort_by == \"price\":\n",
    "        sorted_df = filtered.sort_values(by=\"Prices\")\n",
    "    elif sort_by == \"value\":\n",
    "        sorted_df = filtered.sort_values(by=\"Price_per_Vote\")\n",
    "    else:\n",
    "        sorted_df = filtered.sort_values(by=\"Average_Rating\", ascending=False)\n",
    "\n",
    "    # Return top N\n",
    "    return sorted_df[['Restaurant_Name', 'Place_Name', 'Prices', 'Average_Rating', 'Votes']].head(top_n)\n"
   ]
  },
  {
   "cell_type": "code",
   "execution_count": 6,
   "id": "66f8092a",
   "metadata": {
    "execution": {
     "iopub.execute_input": "2025-07-14T06:01:11.339225Z",
     "iopub.status.busy": "2025-07-14T06:01:11.338574Z",
     "iopub.status.idle": "2025-07-14T06:01:11.520278Z",
     "shell.execute_reply": "2025-07-14T06:01:11.519144Z"
    },
    "papermill": {
     "duration": 0.187326,
     "end_time": "2025-07-14T06:01:11.521853",
     "exception": false,
     "start_time": "2025-07-14T06:01:11.334527",
     "status": "completed"
    },
    "tags": []
   },
   "outputs": [
    {
     "name": "stdout",
     "output_type": "stream",
     "text": [
      "❌ No matching restaurants found for this cuisine and city.\n",
      "❌ No matching restaurants found for this cuisine and city.\n",
      "❌ No matching restaurants found for this cuisine and city.\n"
     ]
    }
   ],
   "source": [
    "recommend_by_cuisine_city(\"Italian\", \"Pune\", sort_by=\"rating\", top_n=5)\n",
    "recommend_by_cuisine_city(\"North Indian\", \"Delhi\", sort_by=\"value\", top_n=10)\n",
    "recommend_by_cuisine_city(\"Chinese\", \"Bangalore\", sort_by=\"price\", top_n=7)\n"
   ]
  },
  {
   "cell_type": "code",
   "execution_count": 7,
   "id": "0319fb5e",
   "metadata": {
    "execution": {
     "iopub.execute_input": "2025-07-14T06:01:11.530560Z",
     "iopub.status.busy": "2025-07-14T06:01:11.529940Z",
     "iopub.status.idle": "2025-07-14T06:01:11.547314Z",
     "shell.execute_reply": "2025-07-14T06:01:11.546240Z"
    },
    "papermill": {
     "duration": 0.023394,
     "end_time": "2025-07-14T06:01:11.549018",
     "exception": false,
     "start_time": "2025-07-14T06:01:11.525624",
     "status": "completed"
    },
    "tags": []
   },
   "outputs": [
    {
     "name": "stdout",
     "output_type": "stream",
     "text": [
      "🔎 Available Cities:\n",
      " [' Hyderabad' ' Mumbai' ' Chennai' ' Pune' ' Jaipur' ' Kochi' ' Goa'\n",
      " ' Bangalore' ' Kolkata' ' Ahmedabad' ' Banaswadi' ' Ulsoor'\n",
      " ' Malleshwaram' ' Magrath Road' ' Lucknow' ' New Delhi' ' Raipur']\n",
      "\n",
      "🍽️ Available Cuisines:\n",
      " ['Fast Food' 'Wraps' 'Biryani' 'Chinese' 'Beverages' 'Desserts' 'Shake'\n",
      " 'Mandi' 'South Indian' 'Kebab' 'Pizza' 'Bakery' 'Ice Cream' 'Mughlai'\n",
      " 'North Indian' 'Momos' 'Shawarma' 'Burger' 'Turkish' 'Rolls' 'Coffee'\n",
      " 'Seafood' 'Hyderabadi' 'Salad' 'Sichuan' 'Sandwich' 'Italian' 'Lucknowi'\n",
      " 'Continental' 'American' 'Mexican' 'Kerala' 'Bbq' 'Rajasthani'\n",
      " 'Healthy Food' 'Tibetan' 'Street Food' 'Mithai' 'Juices' 'Maharashtrian'\n",
      " 'Thai' 'Vietnamese' 'Pasta' 'Gujarati' 'Kathiyawadi' 'Andhra' 'Awadhi'\n",
      " 'Tea']\n"
     ]
    }
   ],
   "source": [
    "print(\"🔎 Available Cities:\\n\", df['City'].unique())\n",
    "print(\"\\n🍽️ Available Cuisines:\\n\", df['Cuisine'].unique())\n"
   ]
  },
  {
   "cell_type": "code",
   "execution_count": 8,
   "id": "842344ee",
   "metadata": {
    "execution": {
     "iopub.execute_input": "2025-07-14T06:01:11.557435Z",
     "iopub.status.busy": "2025-07-14T06:01:11.557087Z",
     "iopub.status.idle": "2025-07-14T06:01:11.656223Z",
     "shell.execute_reply": "2025-07-14T06:01:11.655445Z"
    },
    "papermill": {
     "duration": 0.105179,
     "end_time": "2025-07-14T06:01:11.657848",
     "exception": false,
     "start_time": "2025-07-14T06:01:11.552669",
     "status": "completed"
    },
    "tags": []
   },
   "outputs": [],
   "source": [
    "# Normalize 'City' and 'Cuisine' columns to lowercase and strip whitespaces\n",
    "df['City'] = df['City'].astype(str).str.strip().str.lower()\n",
    "df['Cuisine'] = df['Cuisine'].astype(str).str.strip().str.lower()\n"
   ]
  },
  {
   "cell_type": "code",
   "execution_count": 9,
   "id": "8bed927d",
   "metadata": {
    "execution": {
     "iopub.execute_input": "2025-07-14T06:01:11.666868Z",
     "iopub.status.busy": "2025-07-14T06:01:11.666562Z",
     "iopub.status.idle": "2025-07-14T06:01:11.677500Z",
     "shell.execute_reply": "2025-07-14T06:01:11.676750Z"
    },
    "papermill": {
     "duration": 0.017151,
     "end_time": "2025-07-14T06:01:11.678910",
     "exception": false,
     "start_time": "2025-07-14T06:01:11.661759",
     "status": "completed"
    },
    "tags": []
   },
   "outputs": [],
   "source": [
    "def recommend_by_cuisine_city(cuisine, city, sort_by=\"rating\", top_n=5):\n",
    "    # Normalize input\n",
    "    cuisine = cuisine.strip().lower()\n",
    "    city = city.strip().lower()\n",
    "\n",
    "    # Normalize dataset\n",
    "    df['City'] = df['City'].str.strip().str.lower()\n",
    "    df['Cuisine'] = df['Cuisine'].str.strip().str.lower()\n",
    "\n",
    "    # Filter\n",
    "    filtered = df[(df['City'] == city) & (df['Cuisine'] == cuisine)]\n",
    "\n",
    "    if filtered.empty:\n",
    "        print(\"❌ No matching restaurants found for this cuisine and city.\")\n",
    "        return\n",
    "\n",
    "    # Sort logic\n",
    "    if sort_by == \"rating\":\n",
    "        sorted_df = filtered.sort_values(by=\"Average_Rating\", ascending=False)\n",
    "    elif sort_by == \"price\":\n",
    "        sorted_df = filtered.sort_values(by=\"Prices\")\n",
    "    elif sort_by == \"value\":\n",
    "        sorted_df = filtered.sort_values(by=\"Price_per_Vote\")\n",
    "    else:\n",
    "        sorted_df = filtered.sort_values(by=\"Average_Rating\", ascending=False)\n",
    "\n",
    "    # Return top N\n",
    "    return sorted_df[['Restaurant_Name', 'Place_Name', 'Cuisine', 'Prices', 'Average_Rating', 'Votes']].head(top_n)\n"
   ]
  },
  {
   "cell_type": "code",
   "execution_count": 10,
   "id": "4ad901da",
   "metadata": {
    "execution": {
     "iopub.execute_input": "2025-07-14T06:01:11.687445Z",
     "iopub.status.busy": "2025-07-14T06:01:11.687100Z",
     "iopub.status.idle": "2025-07-14T06:01:11.718253Z",
     "shell.execute_reply": "2025-07-14T06:01:11.717346Z"
    },
    "papermill": {
     "duration": 0.037099,
     "end_time": "2025-07-14T06:01:11.719719",
     "exception": false,
     "start_time": "2025-07-14T06:01:11.682620",
     "status": "completed"
    },
    "tags": []
   },
   "outputs": [
    {
     "name": "stdout",
     "output_type": "stream",
     "text": [
      "✅ Unique Cities: 17 \n",
      " ['hyderabad' 'mumbai' 'chennai' 'pune' 'jaipur' 'kochi' 'goa' 'bangalore'\n",
      " 'kolkata' 'ahmedabad' 'banaswadi' 'ulsoor' 'malleshwaram' 'magrath road'\n",
      " 'lucknow' 'new delhi' 'raipur']\n",
      "✅ Unique Cuisines: 48 \n",
      " ['fast food' 'wraps' 'biryani' 'chinese' 'beverages' 'desserts' 'shake'\n",
      " 'mandi' 'south indian' 'kebab' 'pizza' 'bakery' 'ice cream' 'mughlai'\n",
      " 'north indian' 'momos' 'shawarma' 'burger' 'turkish' 'rolls']\n"
     ]
    }
   ],
   "source": [
    "print(\"✅ Unique Cities:\", df['City'].nunique(), \"\\n\", df['City'].unique()[:20])\n",
    "print(\"✅ Unique Cuisines:\", df['Cuisine'].nunique(), \"\\n\", df['Cuisine'].unique()[:20])\n"
   ]
  },
  {
   "cell_type": "code",
   "execution_count": 11,
   "id": "d51f274b",
   "metadata": {
    "execution": {
     "iopub.execute_input": "2025-07-14T06:01:11.728404Z",
     "iopub.status.busy": "2025-07-14T06:01:11.727784Z",
     "iopub.status.idle": "2025-07-14T06:01:11.842417Z",
     "shell.execute_reply": "2025-07-14T06:01:11.841504Z"
    },
    "papermill": {
     "duration": 0.120411,
     "end_time": "2025-07-14T06:01:11.843841",
     "exception": false,
     "start_time": "2025-07-14T06:01:11.723430",
     "status": "completed"
    },
    "tags": []
   },
   "outputs": [
    {
     "data": {
      "text/html": [
       "<div>\n",
       "<style scoped>\n",
       "    .dataframe tbody tr th:only-of-type {\n",
       "        vertical-align: middle;\n",
       "    }\n",
       "\n",
       "    .dataframe tbody tr th {\n",
       "        vertical-align: top;\n",
       "    }\n",
       "\n",
       "    .dataframe thead th {\n",
       "        text-align: right;\n",
       "    }\n",
       "</style>\n",
       "<table border=\"1\" class=\"dataframe\">\n",
       "  <thead>\n",
       "    <tr style=\"text-align: right;\">\n",
       "      <th></th>\n",
       "      <th>Restaurant_Name</th>\n",
       "      <th>Place_Name</th>\n",
       "      <th>Cuisine</th>\n",
       "      <th>Prices</th>\n",
       "      <th>Average_Rating</th>\n",
       "      <th>Votes</th>\n",
       "    </tr>\n",
       "  </thead>\n",
       "  <tbody>\n",
       "    <tr>\n",
       "      <th>13926</th>\n",
       "      <td>Sherton Restaurant</td>\n",
       "      <td>Amberpet</td>\n",
       "      <td>biryani</td>\n",
       "      <td>80.0</td>\n",
       "      <td>4.1</td>\n",
       "      <td>131</td>\n",
       "    </tr>\n",
       "    <tr>\n",
       "      <th>13842</th>\n",
       "      <td>Sherton Restaurant</td>\n",
       "      <td>Amberpet</td>\n",
       "      <td>biryani</td>\n",
       "      <td>250.0</td>\n",
       "      <td>4.1</td>\n",
       "      <td>0</td>\n",
       "    </tr>\n",
       "    <tr>\n",
       "      <th>13844</th>\n",
       "      <td>Sherton Restaurant</td>\n",
       "      <td>Amberpet</td>\n",
       "      <td>biryani</td>\n",
       "      <td>250.0</td>\n",
       "      <td>4.1</td>\n",
       "      <td>5</td>\n",
       "    </tr>\n",
       "    <tr>\n",
       "      <th>13845</th>\n",
       "      <td>Sherton Restaurant</td>\n",
       "      <td>Amberpet</td>\n",
       "      <td>biryani</td>\n",
       "      <td>250.0</td>\n",
       "      <td>4.1</td>\n",
       "      <td>0</td>\n",
       "    </tr>\n",
       "    <tr>\n",
       "      <th>13846</th>\n",
       "      <td>Sherton Restaurant</td>\n",
       "      <td>Amberpet</td>\n",
       "      <td>biryani</td>\n",
       "      <td>250.0</td>\n",
       "      <td>4.1</td>\n",
       "      <td>0</td>\n",
       "    </tr>\n",
       "  </tbody>\n",
       "</table>\n",
       "</div>"
      ],
      "text/plain": [
       "          Restaurant_Name Place_Name  Cuisine  Prices  Average_Rating  Votes\n",
       "13926  Sherton Restaurant   Amberpet  biryani    80.0             4.1    131\n",
       "13842  Sherton Restaurant   Amberpet  biryani   250.0             4.1      0\n",
       "13844  Sherton Restaurant   Amberpet  biryani   250.0             4.1      5\n",
       "13845  Sherton Restaurant   Amberpet  biryani   250.0             4.1      0\n",
       "13846  Sherton Restaurant   Amberpet  biryani   250.0             4.1      0"
      ]
     },
     "execution_count": 11,
     "metadata": {},
     "output_type": "execute_result"
    }
   ],
   "source": [
    "recommend_by_cuisine_city(\"Biryani\", \"Hyderabad\", sort_by=\"rating\", top_n=5)"
   ]
  },
  {
   "cell_type": "code",
   "execution_count": 12,
   "id": "e6f4434a",
   "metadata": {
    "execution": {
     "iopub.execute_input": "2025-07-14T06:01:11.852344Z",
     "iopub.status.busy": "2025-07-14T06:01:11.852028Z",
     "iopub.status.idle": "2025-07-14T06:01:11.868136Z",
     "shell.execute_reply": "2025-07-14T06:01:11.867437Z"
    },
    "papermill": {
     "duration": 0.022119,
     "end_time": "2025-07-14T06:01:11.869716",
     "exception": false,
     "start_time": "2025-07-14T06:01:11.847597",
     "status": "completed"
    },
    "tags": []
   },
   "outputs": [],
   "source": [
    "grouped.to_csv(\"/kaggle/working/restaurant_profiles.csv\", index=False)\n"
   ]
  },
  {
   "cell_type": "markdown",
   "id": "6a5ac56e",
   "metadata": {
    "papermill": {
     "duration": 0.00344,
     "end_time": "2025-07-14T06:01:11.877924",
     "exception": false,
     "start_time": "2025-07-14T06:01:11.874484",
     "status": "completed"
    },
    "tags": []
   },
   "source": []
  },
  {
   "cell_type": "code",
   "execution_count": null,
   "id": "1ca9c62b",
   "metadata": {
    "papermill": {
     "duration": 0.003265,
     "end_time": "2025-07-14T06:01:11.884836",
     "exception": false,
     "start_time": "2025-07-14T06:01:11.881571",
     "status": "completed"
    },
    "tags": []
   },
   "outputs": [],
   "source": []
  }
 ],
 "metadata": {
  "kaggle": {
   "accelerator": "none",
   "dataSources": [
    {
     "datasetId": 7698803,
     "sourceId": 12220019,
     "sourceType": "datasetVersion"
    }
   ],
   "dockerImageVersionId": 31089,
   "isGpuEnabled": false,
   "isInternetEnabled": true,
   "language": "python",
   "sourceType": "notebook"
  },
  "kernelspec": {
   "display_name": "venv",
   "language": "python",
   "name": "python3"
  },
  "language_info": {
   "codemirror_mode": {
    "name": "ipython",
    "version": 3
   },
   "file_extension": ".py",
   "mimetype": "text/x-python",
   "name": "python",
   "nbconvert_exporter": "python",
   "pygments_lexer": "ipython3",
   "version": "3.12.2"
  },
  "papermill": {
   "default_parameters": {},
   "duration": 10.766195,
   "end_time": "2025-07-14T06:01:12.609219",
   "environment_variables": {},
   "exception": null,
   "input_path": "__notebook__.ipynb",
   "output_path": "__notebook__.ipynb",
   "parameters": {},
   "start_time": "2025-07-14T06:01:01.843024",
   "version": "2.6.0"
  }
 },
 "nbformat": 4,
 "nbformat_minor": 5
}
